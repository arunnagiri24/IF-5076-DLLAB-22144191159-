{
 "cells": [
  {
   "cell_type": "code",
   "execution_count": 1,
   "id": "33510f5d",
   "metadata": {},
   "outputs": [],
   "source": [
    "#3a. Dataset Preparation, Training and Predicting the class with MLP.\n",
    "import pandas as pd\n",
    "from sklearn.preprocessing import LabelBinarizer\n",
    "import numpy as np"
   ]
  },
  {
   "cell_type": "code",
   "execution_count": 3,
   "id": "b3585856",
   "metadata": {},
   "outputs": [
    {
     "data": {
      "text/html": [
       "<div>\n",
       "<style scoped>\n",
       "    .dataframe tbody tr th:only-of-type {\n",
       "        vertical-align: middle;\n",
       "    }\n",
       "\n",
       "    .dataframe tbody tr th {\n",
       "        vertical-align: top;\n",
       "    }\n",
       "\n",
       "    .dataframe thead th {\n",
       "        text-align: right;\n",
       "    }\n",
       "</style>\n",
       "<table border=\"1\" class=\"dataframe\">\n",
       "  <thead>\n",
       "    <tr style=\"text-align: right;\">\n",
       "      <th></th>\n",
       "      <th>slength</th>\n",
       "      <th>swidth</th>\n",
       "      <th>plength</th>\n",
       "      <th>pwidth</th>\n",
       "      <th>label</th>\n",
       "    </tr>\n",
       "  </thead>\n",
       "  <tbody>\n",
       "    <tr>\n",
       "      <th>0</th>\n",
       "      <td>5.1</td>\n",
       "      <td>3.5</td>\n",
       "      <td>1.4</td>\n",
       "      <td>0.2</td>\n",
       "      <td>Iris-setosa</td>\n",
       "    </tr>\n",
       "    <tr>\n",
       "      <th>1</th>\n",
       "      <td>4.9</td>\n",
       "      <td>3.0</td>\n",
       "      <td>1.4</td>\n",
       "      <td>0.2</td>\n",
       "      <td>Iris-setosa</td>\n",
       "    </tr>\n",
       "    <tr>\n",
       "      <th>2</th>\n",
       "      <td>4.7</td>\n",
       "      <td>3.2</td>\n",
       "      <td>1.3</td>\n",
       "      <td>0.2</td>\n",
       "      <td>Iris-setosa</td>\n",
       "    </tr>\n",
       "    <tr>\n",
       "      <th>3</th>\n",
       "      <td>4.6</td>\n",
       "      <td>3.1</td>\n",
       "      <td>1.5</td>\n",
       "      <td>0.2</td>\n",
       "      <td>Iris-setosa</td>\n",
       "    </tr>\n",
       "    <tr>\n",
       "      <th>4</th>\n",
       "      <td>5.0</td>\n",
       "      <td>3.6</td>\n",
       "      <td>1.4</td>\n",
       "      <td>0.2</td>\n",
       "      <td>Iris-setosa</td>\n",
       "    </tr>\n",
       "  </tbody>\n",
       "</table>\n",
       "</div>"
      ],
      "text/plain": [
       "   slength  swidth  plength  pwidth        label\n",
       "0      5.1     3.5      1.4     0.2  Iris-setosa\n",
       "1      4.9     3.0      1.4     0.2  Iris-setosa\n",
       "2      4.7     3.2      1.3     0.2  Iris-setosa\n",
       "3      4.6     3.1      1.5     0.2  Iris-setosa\n",
       "4      5.0     3.6      1.4     0.2  Iris-setosa"
      ]
     },
     "execution_count": 3,
     "metadata": {},
     "output_type": "execute_result"
    }
   ],
   "source": [
    "col_names = ['slength', 'swidth', 'plength', 'pwidth', 'label']\n",
    "# load dataset\n",
    "iris = pd.read_csv(\"iris.csv\", header=None, names=col_names)\n",
    "\n",
    "iris.head()"
   ]
  },
  {
   "cell_type": "code",
   "execution_count": 5,
   "id": "e4573cda",
   "metadata": {},
   "outputs": [],
   "source": [
    "def sigmoid(x):\n",
    "    return 1/(1 + np.exp(-x))\n",
    "\n",
    "#Derivative of the sigmoid function\n",
    "def sigmoid_prime(x):\n",
    "    return sigmoid(x)*(1.0 - sigmoid(x))"
   ]
  },
  {
   "cell_type": "code",
   "execution_count": 6,
   "id": "d463cfd7",
   "metadata": {},
   "outputs": [
    {
     "name": "stdout",
     "output_type": "stream",
     "text": [
      "120 30\n"
     ]
    }
   ],
   "source": [
    "labelbinarizer = LabelBinarizer()\n",
    "make_encoded_results = labelbinarizer.fit_transform(iris['label'])\n",
    "labelbinarizer.classes_\n",
    "df_label_encoded = pd.DataFrame(make_encoded_results, columns=labelbinarizer.classes_)\n",
    "# Viewing few rows of data\n",
    "df_label_encoded.head()\n",
    "iris.head()\n",
    "\n",
    "iris_encoded = pd.concat([iris, df_label_encoded], axis=1, sort=False)\n",
    "del iris_encoded['label']\n",
    "iris_encoded.head()\n",
    "rowcount=len(iris_encoded.index)\n",
    "iris_encoded1 = iris_encoded.sample(frac = 1) \n",
    "#print(iris_encoded1)\n",
    "iris_encoded=iris_encoded1.head(120)\n",
    "iris_test=iris_encoded1.tail(30)\n",
    "print(len(iris_encoded.index),len(iris_test.index))\n",
    "#aaa=iris_encoded.iloc[1]\n",
    "#aa[0]\n",
    "#iris_encoded.iloc[1][2]\n",
    "#len(iris_encoded.columns)"
   ]
  },
  {
   "cell_type": "code",
   "execution_count": 7,
   "id": "26ceff69",
   "metadata": {},
   "outputs": [],
   "source": [
    "i_n=4\n",
    "h_n=7\n",
    "o_n=3"
   ]
  },
  {
   "cell_type": "code",
   "execution_count": 8,
   "id": "3f1f3f04",
   "metadata": {},
   "outputs": [
    {
     "name": "stdout",
     "output_type": "stream",
     "text": [
      "row count  120\n",
      "input - hidden weights\n",
      "[[0.33281237 0.08672334 0.18486531 0.44126736]\n",
      " [0.39815054 0.60554041 0.37030628 0.05950583]\n",
      " [0.34274631 0.01982366 0.52080763 0.01542342]\n",
      " [0.06667565 0.23647493 0.3765734  0.09700043]\n",
      " [0.33049577 0.17561991 0.44771369 0.00741888]\n",
      " [0.62795146 0.10140006 0.24175703 0.52580668]\n",
      " [0.53709593 0.4925039  0.49782676 0.23542774]]\n",
      "hidden-output weights\n",
      "[[0.2883684  0.40923308 0.15950101 0.13713258 0.20209453 0.44981944\n",
      "  0.05747691]\n",
      " [0.52395485 0.26034056 0.19394313 0.4904631  0.5148228  0.03416807\n",
      "  0.10980843]\n",
      " [0.08395259 0.51930088 0.46844232 0.08645093 0.25411179 0.12758934\n",
      "  0.10323764]]\n",
      "35\n",
      "54\n",
      "73\n",
      "78\n",
      "78\n",
      "80\n",
      "84\n",
      "86\n",
      "86\n",
      "87\n",
      "90\n",
      "94\n",
      "97\n",
      "99\n",
      "102\n",
      "105\n",
      "106\n",
      "108\n",
      "109\n",
      "110\n",
      "110\n",
      "110\n",
      "110\n",
      "111\n",
      "108\n",
      "109\n",
      "105\n",
      "106\n",
      "106\n",
      "109\n",
      "109\n",
      "108\n",
      "111\n",
      "110\n",
      "112\n",
      "111\n",
      "110\n",
      "112\n",
      "109\n",
      "111\n",
      "110\n",
      "112\n",
      "109\n",
      "111\n",
      "110\n",
      "113\n",
      "112\n",
      "112\n",
      "112\n",
      "114\n",
      "114\n",
      "113\n",
      "112\n",
      "112\n",
      "112\n",
      "115\n",
      "112\n",
      "112\n",
      "109\n",
      "113\n",
      "111\n",
      "111\n",
      "110\n",
      "110\n",
      "111\n",
      "111\n",
      "112\n",
      "112\n",
      "110\n",
      "111\n",
      "111\n",
      "109\n",
      "109\n",
      "110\n",
      "110\n",
      "109\n",
      "110\n",
      "112\n",
      "114\n",
      "116\n",
      "116\n",
      "116\n",
      "116\n",
      "116\n",
      "116\n",
      "116\n",
      "114\n",
      "115\n",
      "115\n",
      "114\n",
      "113\n",
      "111\n",
      "115\n",
      "115\n",
      "113\n",
      "115\n",
      "113\n",
      "112\n",
      "112\n",
      "112\n",
      "after training the BPN\n",
      "input - hidden weights\n",
      "[[ 0.74374143  0.32683033  0.36737872  0.48052211]\n",
      " [ 0.55288634  0.72938305  0.37451357  0.05100231]\n",
      " [-8.35103673 -5.01497773  9.73344245 11.38038625]\n",
      " [-0.77740628 -1.89653252  3.40191221  1.49238356]\n",
      " [ 0.58715375  0.29544193  0.61981472  0.05420978]\n",
      " [ 0.92309082  0.30924122  0.30844118  0.53129072]\n",
      " [ 0.67808974  0.58908587  0.53345132  0.2394946 ]]\n",
      "hidden-output weights\n",
      "[[ 0.57719838  0.93700877 -2.99341435 -6.67231657  0.3469829   0.96659513\n",
      "   0.59986395]\n",
      " [-0.3627528  -0.75763649 -5.32537346  6.22740067 -0.31195237 -0.95446761\n",
      "  -0.89370642]\n",
      " [-0.9953506  -0.74890442  5.6078228   1.64332043 -0.74569105 -1.15283588\n",
      "  -1.19685657]]\n"
     ]
    }
   ],
   "source": [
    "#print(iris_encoded)\n",
    "#output_target=np.array(iris_encoded.iloc[:,-3:])\n",
    "epochs=100\n",
    "rowcount=len(iris_encoded.index)\n",
    "print('row count ',rowcount)\n",
    "wt_hidden=np.random.rand(h_n,i_n)*np.sqrt(2/i_n)\n",
    "wt_output=np.random.rand(o_n,h_n)*np.sqrt(2/h_n)\n",
    "#wt_hidden=np.random.rand(h_n,i_n)\n",
    "#wt_output=np.random.rand(o_n,h_n)\n",
    "print('input - hidden weights')\n",
    "print(wt_hidden)\n",
    "print('hidden-output weights')\n",
    "print(wt_output)\n",
    "\n",
    "bias_h=0.01\n",
    "bias_o=0.01\n",
    "\n",
    "in_h=np.zeros([h_n,1])\n",
    "out_h=np.zeros([h_n,1])\n",
    "out_o=np.zeros([o_n,])\n",
    "in_o=np.zeros([o_n,])\n",
    "output_labels=np.zeros([rowcount,o_n])\n",
    "for i in range(epochs):\n",
    "    output_labels=np.zeros([rowcount,o_n])\n",
    "    correctly_classified=0;\n",
    "    for j in range(rowcount):\n",
    "        \n",
    "        #forward pass input-hidden\n",
    "        inp=iris_encoded.iloc[j,0:i_n]\n",
    "        out=np.array(iris_encoded.iloc[j,-3:])\n",
    "        #print(out)\n",
    "        for k in range(h_n):\n",
    "            inp_i=np.array(inp)\n",
    "            wt_ih=np.array(wt_hidden[k])\n",
    "            x=np.dot(wt_ih,inp_i)+bias_h\n",
    "            out_h[k] = sigmoid(x)\n",
    "            in_h[k]=x\n",
    "        #print(hidden_output)\n",
    "        #print(hidden_input)\n",
    "        \n",
    "        #forward pass hidden-output\n",
    "        for k in range(o_n):\n",
    "            out_h=np.array(out_h)\n",
    "            wt_ho=np.array(wt_output[k])\n",
    "            #print(out_h)\n",
    "            #print('qqqqq')\n",
    "            #print(wt_ho)\n",
    "            x=np.dot(wt_ho,out_h)+bias_o\n",
    "            out_o[k] = sigmoid(x)\n",
    "            in_o[k]=x\n",
    "            \n",
    "        #print(out_o)\n",
    "        #print(out)\n",
    "        #print(y_output.shape,out.shape)\n",
    "        #bias_h=bias_h-(0.1*bias_h)\n",
    "        dif=np.subtract(out,out_o)\n",
    "        dif_sq=np.square(dif)\n",
    "        \n",
    "        error=np.sum(dif_sq)\n",
    "        \n",
    "        error=error/2\n",
    "        #print(error)\n",
    "        \n",
    "        labelind=np.argmax(out_o)\n",
    "        output_labels[j][labelind]=1\n",
    "        #print(output_labels[j],output_target[j])\n",
    "        a=np.equal(output_labels[j],out)\n",
    "        result = np.all(a)\n",
    "        if(bool(result)):\n",
    "            correctly_classified=correctly_classified+1\n",
    "        #back propagation of error \n",
    "        for p in range(o_n):\n",
    "            for q in range(h_n):\n",
    "                derror=-(out[p]-out_o[p])*sigmoid_prime(in_o[p])*out_h[q]\n",
    "                wt_output[p][q]=wt_output[p][q]-(0.3*derror)\n",
    "                \n",
    "        \n",
    "        for p in range(h_n):\n",
    "            for q in range(i_n):\n",
    "                derror=0\n",
    "                for r in range (o_n):\n",
    "                    derror=derror+(-(out[r]-out_o[r])*sigmoid_prime(in_o[r])*wt_output[r][p])\n",
    "                derror=derror*sigmoid_prime(in_h[p])*inp_i[q]\n",
    "                wt_hidden[p][q]=wt_hidden[p][q]-(0.3*derror)\n",
    "                #print(derror)\n",
    "        bias_h=bias_h-(0.01*bias_h)\n",
    "        bias_o=bias_h-(0.01*bias_o)\n",
    "    print(correctly_classified)\n",
    "\n",
    "print(\"after training the BPN\")\n",
    "print('input - hidden weights')\n",
    "print(wt_hidden)\n",
    "print('hidden-output weights')\n",
    "print(wt_output)   \n",
    "    "
   ]
  },
  {
   "cell_type": "code",
   "execution_count": 9,
   "id": "5b68f535",
   "metadata": {},
   "outputs": [
    {
     "name": "stdout",
     "output_type": "stream",
     "text": [
      "prediction accuracy on training samples= 0.9333333333333333\n"
     ]
    }
   ],
   "source": [
    "prediction_accuracy=correctly_classified/rowcount\n",
    "print('prediction accuracy on training samples=',prediction_accuracy)"
   ]
  },
  {
   "cell_type": "code",
   "execution_count": 10,
   "id": "5c55c879",
   "metadata": {},
   "outputs": [
    {
     "name": "stdout",
     "output_type": "stream",
     "text": [
      "row count  30\n",
      "prediction accuracy on testing samples= 29 0.9666666666666667\n"
     ]
    }
   ],
   "source": [
    "#test\n",
    "#print(iris_encoded)\n",
    "#output_target=np.array(iris_test.iloc[:,-3:])\n",
    "rowcount=len(iris_test.index)\n",
    "print('row count ',rowcount)\n",
    "\n",
    "bias_h=0.1\n",
    "bias_o=0.1\n",
    "\n",
    "in_h=np.zeros([h_n,1])\n",
    "out_h=np.zeros([h_n,1])\n",
    "out_o=np.zeros([o_n,])\n",
    "in_o=np.zeros([o_n,])\n",
    "output_labels=np.zeros([rowcount,o_n])\n",
    "\n",
    "correctly_classified=0;\n",
    "for j in range(rowcount):\n",
    "        \n",
    "        #forward pass input-hidden\n",
    "        inp=iris_encoded.iloc[j,0:i_n]\n",
    "        out=np.array(iris_encoded.iloc[j,-3:])\n",
    "        #print(out)\n",
    "        for k in range(h_n):\n",
    "            inp_i=np.array(inp)\n",
    "            wt_ih=np.array(wt_hidden[k])\n",
    "            x=np.dot(wt_ih,inp_i)+bias_h\n",
    "            out_h[k] = sigmoid(x)\n",
    "            in_h[k]=x\n",
    "        \n",
    "        \n",
    "        #forward pass hidden-output\n",
    "        for k in range(o_n):\n",
    "            out_h=np.array(out_h)\n",
    "            wt_ho=np.array(wt_output[k])\n",
    "            x=np.dot(wt_ho,out_h)+bias_o\n",
    "            out_o[k] = sigmoid(x)\n",
    "            in_o[k]=x\n",
    "            \n",
    "        labelind=np.argmax(out_o)\n",
    "        output_labels[j][labelind]=1\n",
    "        #print(out_o,output_labels[j],out,output_target[j])\n",
    "        #print(output_labels[j],output_target[j])\n",
    "        a=np.equal(output_labels[j],out)\n",
    "        result = np.all(a)\n",
    "        if(bool(result)):\n",
    "            correctly_classified=correctly_classified+1\n",
    "print('prediction accuracy on testing samples=',correctly_classified,correctly_classified/rowcount)\n",
    "    "
   ]
  },
  {
   "cell_type": "code",
   "execution_count": 11,
   "id": "70869e53",
   "metadata": {},
   "outputs": [],
   "source": [
    "#3b.Tune the learning rate,no.of epoch and even data preparation method to get an improved score on the dataset\n",
    "import numpy as np\n",
    "from sklearn import datasets\n",
    "from sklearn.model_selection import train_test_split\n",
    "from sklearn import metrics\n",
    "#\n",
    "# Import Keras modules\n",
    "#\n",
    "from keras import models\n",
    "from keras import layers\n",
    "from tensorflow.keras.utils import to_categorical\n",
    "from sklearn.neural_network import MLPClassifier # neural network"
   ]
  },
  {
   "cell_type": "code",
   "execution_count": 12,
   "id": "fc744c49",
   "metadata": {},
   "outputs": [],
   "source": [
    "iris = datasets.load_iris()"
   ]
  },
  {
   "cell_type": "code",
   "execution_count": 13,
   "id": "560449db",
   "metadata": {},
   "outputs": [],
   "source": [
    "X = iris.data\n",
    "y = iris.target"
   ]
  },
  {
   "cell_type": "code",
   "execution_count": 14,
   "id": "aff99001",
   "metadata": {},
   "outputs": [],
   "source": [
    "X_train, X_test, y_train, y_test = train_test_split(X, y, test_size=0.2, stratify=y, random_state=1)"
   ]
  },
  {
   "cell_type": "code",
   "execution_count": 15,
   "id": "8e9b15e2",
   "metadata": {},
   "outputs": [],
   "source": [
    "train_labels = to_categorical(y_train)\n",
    "test_labels = to_categorical(y_test)"
   ]
  },
  {
   "cell_type": "code",
   "execution_count": 16,
   "id": "1e322757",
   "metadata": {},
   "outputs": [],
   "source": [
    "clf = MLPClassifier(solver='adam', alpha=1e-5, hidden_layer_sizes=(3, 3), random_state=1)"
   ]
  },
  {
   "cell_type": "code",
   "execution_count": 17,
   "id": "9e3a47cb",
   "metadata": {},
   "outputs": [
    {
     "name": "stderr",
     "output_type": "stream",
     "text": [
      "D:\\Users\\sf41\\Anaconda3\\envs\\tensorflow_env\\lib\\site-packages\\sklearn\\neural_network\\_multilayer_perceptron.py:614: ConvergenceWarning: Stochastic Optimizer: Maximum iterations (200) reached and the optimization hasn't converged yet.\n",
      "  warnings.warn(\n"
     ]
    },
    {
     "data": {
      "text/plain": [
       "MLPClassifier(alpha=1e-05, hidden_layer_sizes=(3, 3), random_state=1)"
      ]
     },
     "execution_count": 17,
     "metadata": {},
     "output_type": "execute_result"
    }
   ],
   "source": [
    "clf.fit(X_train, y_train)"
   ]
  },
  {
   "cell_type": "code",
   "execution_count": 18,
   "id": "96308505",
   "metadata": {},
   "outputs": [
    {
     "name": "stdout",
     "output_type": "stream",
     "text": [
      "[2 0 1 1 1 0 2 2 2 1 0 1 2 1 2 1 2 1 1 2 1 2 1 0 2 2 1 0 2 1]\n"
     ]
    }
   ],
   "source": [
    "prediction = clf.predict(X_test)\n",
    "print(prediction)"
   ]
  },
  {
   "cell_type": "code",
   "execution_count": 19,
   "id": "fab9b4cc",
   "metadata": {},
   "outputs": [
    {
     "name": "stdout",
     "output_type": "stream",
     "text": [
      "[2 0 1 0 0 0 2 2 2 1 0 1 2 1 2 0 2 1 1 2 1 1 0 0 2 2 0 0 1 1]\n"
     ]
    }
   ],
   "source": [
    "print(y_test)"
   ]
  },
  {
   "cell_type": "code",
   "execution_count": 20,
   "id": "7c767df0",
   "metadata": {},
   "outputs": [
    {
     "name": "stdout",
     "output_type": "stream",
     "text": [
      "The accuracy of the Multi-layer Perceptron is: 0.7666666666666667\n"
     ]
    }
   ],
   "source": [
    "print('The accuracy of the Multi-layer Perceptron is:',metrics.accuracy_score(prediction,y_test))"
   ]
  },
  {
   "cell_type": "code",
   "execution_count": 21,
   "id": "ef53c266",
   "metadata": {},
   "outputs": [],
   "source": [
    "network = models.Sequential()\n",
    "network.add(layers.Dense(32, activation='relu', input_shape=(4,)))\n",
    "network.add(layers.Dense(64, activation='relu'))\n",
    "network.add(layers.Dense(128, activation='relu'))\n",
    "network.add(layers.Dense(3, activation='softmax'))"
   ]
  },
  {
   "cell_type": "code",
   "execution_count": 22,
   "id": "e02e3293",
   "metadata": {},
   "outputs": [],
   "source": [
    "network.compile(optimizer='sgd',\n",
    "                loss='categorical_crossentropy',\n",
    "                metrics=['accuracy'])"
   ]
  },
  {
   "cell_type": "code",
   "execution_count": 23,
   "id": "27cdbee5",
   "metadata": {},
   "outputs": [
    {
     "name": "stdout",
     "output_type": "stream",
     "text": [
      "Epoch 1/20\n",
      "3/3 [==============================] - 1s 0s/step - loss: 1.0705 - accuracy: 0.4583\n",
      "Epoch 2/20\n",
      "3/3 [==============================] - 0s 3ms/step - loss: 1.0215 - accuracy: 0.2000\n",
      "Epoch 3/20\n",
      "3/3 [==============================] - 0s 1ms/step - loss: 0.9885 - accuracy: 0.4833\n",
      "Epoch 4/20\n",
      "3/3 [==============================] - 0s 3ms/step - loss: 0.9614 - accuracy: 0.5667\n",
      "Epoch 5/20\n",
      "3/3 [==============================] - 0s 1ms/step - loss: 0.9419 - accuracy: 0.6250\n",
      "Epoch 6/20\n",
      "3/3 [==============================] - 0s 3ms/step - loss: 0.9148 - accuracy: 0.5667\n",
      "Epoch 7/20\n",
      "3/3 [==============================] - 0s 1ms/step - loss: 0.8896 - accuracy: 0.6417\n",
      "Epoch 8/20\n",
      "3/3 [==============================] - 0s 2ms/step - loss: 0.8723 - accuracy: 0.6667\n",
      "Epoch 9/20\n",
      "3/3 [==============================] - 0s 1ms/step - loss: 0.8451 - accuracy: 0.6583\n",
      "Epoch 10/20\n",
      "3/3 [==============================] - 0s 2ms/step - loss: 0.8221 - accuracy: 0.6583\n",
      "Epoch 11/20\n",
      "3/3 [==============================] - 0s 2ms/step - loss: 0.8019 - accuracy: 0.6667\n",
      "Epoch 12/20\n",
      "3/3 [==============================] - 0s 1ms/step - loss: 0.7760 - accuracy: 0.7000\n",
      "Epoch 13/20\n",
      "3/3 [==============================] - 0s 2ms/step - loss: 0.7635 - accuracy: 0.7250\n",
      "Epoch 14/20\n",
      "3/3 [==============================] - 0s 1ms/step - loss: 0.7438 - accuracy: 0.7083\n",
      "Epoch 15/20\n",
      "3/3 [==============================] - 0s 2ms/step - loss: 0.7240 - accuracy: 0.6750\n",
      "Epoch 16/20\n",
      "3/3 [==============================] - 0s 2ms/step - loss: 0.7091 - accuracy: 0.6917\n",
      "Epoch 17/20\n",
      "3/3 [==============================] - 0s 3ms/step - loss: 0.6962 - accuracy: 0.7583\n",
      "Epoch 18/20\n",
      "3/3 [==============================] - 0s 3ms/step - loss: 0.6811 - accuracy: 0.6917\n",
      "Epoch 19/20\n",
      "3/3 [==============================] - 0s 6ms/step - loss: 0.6702 - accuracy: 0.7833\n",
      "Epoch 20/20\n",
      "3/3 [==============================] - 0s 1ms/step - loss: 0.6628 - accuracy: 0.7500\n"
     ]
    },
    {
     "data": {
      "text/plain": [
       "<keras.callbacks.History at 0x1b696178520>"
      ]
     },
     "execution_count": 23,
     "metadata": {},
     "output_type": "execute_result"
    }
   ],
   "source": [
    "network.fit(X_train, train_labels, epochs=20, batch_size=40)"
   ]
  },
  {
   "cell_type": "code",
   "execution_count": 24,
   "id": "1d74bcea",
   "metadata": {},
   "outputs": [
    {
     "name": "stdout",
     "output_type": "stream",
     "text": [
      "1/1 [==============================] - 0s 144ms/step - loss: 0.6472 - accuracy: 0.6667\n",
      "Test Accuracy:  0.6666666865348816 \n",
      "Test Loss:  0.6471821069717407\n"
     ]
    }
   ],
   "source": [
    "test_loss, test_acc = network.evaluate(X_test, test_labels)\n",
    "#\n",
    "# Print the test accuracy\n",
    "#\n",
    "print('Test Accuracy: ', test_acc, '\\nTest Loss: ', test_loss)"
   ]
  }
 ],
 "metadata": {
  "kernelspec": {
   "display_name": "Python 3 (ipykernel)",
   "language": "python",
   "name": "python3"
  },
  "language_info": {
   "codemirror_mode": {
    "name": "ipython",
    "version": 3
   },
   "file_extension": ".py",
   "mimetype": "text/x-python",
   "name": "python",
   "nbconvert_exporter": "python",
   "pygments_lexer": "ipython3",
   "version": "3.9.12"
  }
 },
 "nbformat": 4,
 "nbformat_minor": 5
}
